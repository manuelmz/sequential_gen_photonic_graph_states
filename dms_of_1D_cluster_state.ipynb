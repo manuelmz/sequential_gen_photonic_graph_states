{
 "cells": [
  {
   "cell_type": "markdown",
   "id": "259c911f-29fd-4079-b75f-49d834da5511",
   "metadata": {},
   "source": [
    "## Generating one dimensional cluster states\n",
    "\n",
    "In this notebook we generate one dimensional cluster states with the sequential emission protocol"
   ]
  },
  {
   "cell_type": "code",
   "execution_count": 2,
   "id": "6e094e15-1e16-4b7c-a425-3cb304333900",
   "metadata": {},
   "outputs": [],
   "source": [
    "import numpy as np \n",
    "import matplotlib.pyplot as plt\n",
    "import matplotlib.cm as cm\n",
    "import scipy.sparse as sps\n",
    "\n",
    "from qutip import *\n",
    "\n",
    "import cirq\n",
    "\n",
    "import qutrit_utils\n",
    "import graph_state_gen_circuits as gsg"
   ]
  },
  {
   "cell_type": "code",
   "execution_count": 3,
   "id": "71085f9c-2f78-46d2-8cb9-32361eab7561",
   "metadata": {},
   "outputs": [],
   "source": [
    "### system parameters\n",
    "qus = [2,3,4,5,6,7,8,9,10,11,12]\n",
    "\n",
    "waittimes = [0.125, 0.125, 0.125, 0.075, 0.205] # T_h, T_pief, T_cnot, T_wait, T_swap\n",
    "\n",
    "coherence_times1 = [27, 22, 16, 12]\n",
    "\n",
    "nparams = [0.01, 0.0]"
   ]
  },
  {
   "cell_type": "code",
   "execution_count": 4,
   "id": "6966fbd8-f5c6-47c6-a882-4dc45dc20f1d",
   "metadata": {},
   "outputs": [],
   "source": [
    "##-- initialize the simulators\n",
    "simulator = cirq.Simulator()\n",
    "dsim = cirq.DensityMatrixSimulator()"
   ]
  },
  {
   "cell_type": "code",
   "execution_count": 5,
   "id": "368f0ec8-0752-4c9f-843b-9cc93d1e06b1",
   "metadata": {},
   "outputs": [],
   "source": [
    "#gsg.ideal_cluster_state_1D(4)"
   ]
  },
  {
   "cell_type": "code",
   "execution_count": 6,
   "id": "a9403845-04c4-4b90-b38a-d8324ccfcd81",
   "metadata": {},
   "outputs": [],
   "source": [
    "#gsg.noisy_cluster_state_1D(2, waittimes, coherence_times1, nparams)"
   ]
  },
  {
   "cell_type": "markdown",
   "id": "28d175e7-2def-4b50-9cc3-f3b867bd56f4",
   "metadata": {},
   "source": [
    "## generating the states"
   ]
  },
  {
   "cell_type": "code",
   "execution_count": 7,
   "id": "88cf9593-5503-4f15-bca8-be1542225170",
   "metadata": {},
   "outputs": [
    {
     "name": "stdout",
     "output_type": "stream",
     "text": [
      "Computation for 2 qubits, done -->>\n",
      "Computation for 3 qubits, done -->>\n",
      "Computation for 4 qubits, done -->>\n",
      "Computation for 5 qubits, done -->>\n",
      "Computation for 6 qubits, done -->>\n",
      "Computation for 7 qubits, done -->>\n",
      "Computation for 8 qubits, done -->>\n",
      "Computation for 9 qubits, done -->>\n",
      "Computation for 10 qubits, done -->>\n",
      "Computation for 11 qubits, done -->>\n",
      "Computation for 12 qubits, done -->>\n",
      "CPU times: user 3.6 s, sys: 1.21 s, total: 4.81 s\n",
      "Wall time: 5.07 s\n"
     ]
    }
   ],
   "source": [
    "%%time\n",
    "### the ideal states\n",
    "noiseless_states = []\n",
    "\n",
    "for qu in qus:\n",
    "    #- run the circuit\n",
    "    ideal_state = simulator.simulate(gsg.ideal_cluster_state_1D(qu)).final_state_vector\n",
    "    \n",
    "    #- ideal state in csr form\n",
    "    ideal_rho = sps.csr_matrix(np.outer(np.conj(ideal_state), ideal_state))\n",
    "    \n",
    "    #- ideal state as qutip object\n",
    "    irho = Qobj(ideal_rho, dims = [[3] + [2]*qu, [3] + [2]*qu])\n",
    "    \n",
    "    #- reduced state of the qubit register (trace out the storages)\n",
    "    irho_qubits = ptrace(irho, list(range(1, qu+1)))\n",
    "    \n",
    "    noiseless_states.append(irho_qubits)\n",
    "    \n",
    "    #deco_state = dsim.simulate(gsg.noisy_cluster_state_1D(qu, waittimes, coherence_times1, [0,0])).final_density_matrix\n",
    "    #fide_deco = np.dot(np.conj(ideal_state), np.dot(deco_state, ideal_state))\n",
    "    #fides_deco.append(fide_deco.real)\n",
    "    \n",
    "    print(\"Computation for %d qubits, done -->>\" % qu)\n",
    "#"
   ]
  },
  {
   "cell_type": "code",
   "execution_count": 8,
   "id": "e66f6293-bf82-464f-8658-4d333fdb7b4b",
   "metadata": {},
   "outputs": [
    {
     "name": "stdout",
     "output_type": "stream",
     "text": [
      "Computation for 2 qubits, done -->>\n",
      "Computation for 3 qubits, done -->>\n",
      "Computation for 4 qubits, done -->>\n",
      "Computation for 5 qubits, done -->>\n",
      "Computation for 6 qubits, done -->>\n",
      "Computation for 7 qubits, done -->>\n",
      "Computation for 8 qubits, done -->>\n",
      "Computation for 9 qubits, done -->>\n",
      "Computation for 10 qubits, done -->>\n",
      "Computation for 11 qubits, done -->>\n",
      "Computation for 12 qubits, done -->>\n",
      "CPU times: user 1min 55s, sys: 1min 59s, total: 3min 55s\n",
      "Wall time: 3min 23s\n"
     ]
    }
   ],
   "source": [
    "%%time\n",
    "### the decoherence limited states\n",
    "deco_states = []\n",
    "\n",
    "for qu in qus:\n",
    "    #- run the circuit\n",
    "    deco_state = dsim.simulate(gsg.noisy_cluster_state_1D(qu, waittimes, coherence_times1, [0,0])).final_density_matrix\n",
    "    \n",
    "    #- deco state in csr form\n",
    "    deco_rho = sps.csr_matrix(deco_state)\n",
    "    \n",
    "    #- ideal state as qutip object\n",
    "    drho = Qobj(deco_rho, dims = [[3] + [2]*qu, [3] + [2]*qu])\n",
    "    \n",
    "    #- reduced state of the qubit register (trace out the storages)\n",
    "    drho_qubits = ptrace(drho, list(range(1, qu+1)))\n",
    "    \n",
    "    deco_states.append(drho_qubits)\n",
    "    print(\"Computation for %d qubits, done -->>\" % qu)\n",
    "#"
   ]
  },
  {
   "cell_type": "code",
   "execution_count": 9,
   "id": "73b1beb6-c5e2-4a96-baf8-c90c711852c5",
   "metadata": {},
   "outputs": [
    {
     "name": "stdout",
     "output_type": "stream",
     "text": [
      "Computation for 2 qubits, done -->>\n",
      "Computation for 3 qubits, done -->>\n",
      "Computation for 4 qubits, done -->>\n",
      "Computation for 5 qubits, done -->>\n",
      "Computation for 6 qubits, done -->>\n",
      "Computation for 7 qubits, done -->>\n",
      "Computation for 8 qubits, done -->>\n",
      "Computation for 9 qubits, done -->>\n",
      "Computation for 10 qubits, done -->>\n",
      "Computation for 11 qubits, done -->>\n",
      "Computation for 12 qubits, done -->>\n",
      "CPU times: user 1min 58s, sys: 2min 5s, total: 4min 3s\n",
      "Wall time: 2min 41s\n"
     ]
    }
   ],
   "source": [
    "%%time\n",
    "### the noisy states\n",
    "noisy_states = []\n",
    "\n",
    "for qu in qus:\n",
    "    #- run the circuit\n",
    "    noisy_state = dsim.simulate(gsg.noisy_cluster_state_1D(qu, waittimes, coherence_times1, nparams)).final_density_matrix\n",
    "    \n",
    "    #- deco state in csr form\n",
    "    noisy_rho = sps.csr_matrix(noisy_state)\n",
    "    \n",
    "    #- ideal state as qutip object\n",
    "    nrho = Qobj(noisy_rho, dims = [[3] + [2]*qu, [3] + [2]*qu])\n",
    "    \n",
    "    #- reduced state of the qubit register (trace out the storages)\n",
    "    nrho_qubits = ptrace(nrho, list(range(1, qu+1)))\n",
    "    \n",
    "    noisy_states.append(nrho_qubits)\n",
    "    \n",
    "    print(\"Computation for %d qubits, done -->>\" % qu)\n",
    "#"
   ]
  },
  {
   "cell_type": "markdown",
   "id": "df9bee47-c1d8-4a65-ba6a-16b2e44e45e4",
   "metadata": {},
   "source": [
    "### Fidelities"
   ]
  },
  {
   "cell_type": "code",
   "execution_count": 10,
   "id": "7ab520cc-59e7-4d0e-bf10-079857677f50",
   "metadata": {},
   "outputs": [
    {
     "name": "stdout",
     "output_type": "stream",
     "text": [
      "2 0.9786733570257156 0.963999722147395\n",
      "3 0.9617318309059724 0.9236480033527816\n",
      "4 0.9450707607397323 0.8878426709979317\n",
      "5 0.928698986526345 0.8549470489831368\n",
      "6 0.9126109963358476 0.8231982315491142\n",
      "7 0.8968018138961315 0.7928369568338209\n",
      "8 0.8812667020364674 0.763491980242779\n",
      "9 0.8660011856528137 0.7353057409939733\n",
      "10 0.8510011235630761 0.7081451975952309\n"
     ]
    }
   ],
   "source": [
    "fides_deco = []\n",
    "fides_noisy = []\n",
    "\n",
    "for qq in range(len(qus)-2):\n",
    "    fdeco = fidelity(deco_states[qq], noiseless_states[qq])**2\n",
    "    ndeco = fidelity(noisy_states[qq], noiseless_states[qq])**2\n",
    "    \n",
    "    fides_deco.append(fdeco)\n",
    "    fides_noisy.append(ndeco)\n",
    "    \n",
    "    print(qus[qq], fdeco, ndeco)\n",
    "#"
   ]
  },
  {
   "cell_type": "markdown",
   "id": "dfcc5b56-8c3d-4266-9f44-04bf24775584",
   "metadata": {},
   "source": [
    "## noisy state fidelities"
   ]
  },
  {
   "cell_type": "code",
   "execution_count": 14,
   "id": "266cb106-a015-48d8-b41d-41d71f9dfebc",
   "metadata": {},
   "outputs": [
    {
     "data": {
      "image/png": "[encoded data removed]",
      "text/plain": [
       "<Figure size 640x480 with 1 Axes>"
      ]
     },
     "metadata": {},
     "output_type": "display_data"
    }
   ],
   "source": [
    "plt.plot(qus[:-2], fides_deco, \"o-\", label = \"simulation - decoherence limited\")\n",
    "plt.plot(qus[:-2], fides_noisy, \"o-\", label = \"simulation - leakage\")\n",
    "\n",
    "plt.legend(loc = \"upper right\", fontsize = 12, frameon = False)\n",
    "plt.xlabel(\"Number of qubits\", fontsize = 16)\n",
    "plt.ylabel(\"Fidelity\", fontsize = 16)\n",
    "plt.tick_params(axis = \"both\", labelsize = 13)\n",
    "plt.show()"
   ]
  },
  {
   "cell_type": "markdown",
   "id": "16dcef6d-197a-437e-9e87-a01e54550726",
   "metadata": {},
   "source": [
    "## Exporting the states"
   ]
  },
  {
   "cell_type": "code",
   "execution_count": 12,
   "id": "cd9b5dba-6a25-4c62-832a-ba4d1604c7f3",
   "metadata": {},
   "outputs": [],
   "source": [
    "### path\n",
    "#patho = \"/Users/munm2002/Documents/projects/graph_states_for_ent_witness/data_states/cluster_state_1D/\""
   ]
  },
  {
   "cell_type": "code",
   "execution_count": 13,
   "id": "0aa34955-3ea7-41b8-8ae8-4cea81ee21c7",
   "metadata": {},
   "outputs": [],
   "source": [
    "# ### save the states\n",
    "# for ii in range(len(qus)):\n",
    "\n",
    "#     #qsave(noisy_states[ii], patho+\"cluster_state_1D_%dqubits.qu\" % qus[ii])\n",
    "#     qsave(noiseless_states[ii], patho+\"ideal_cluster_state_1D_%dqubits.qu\" % qus[ii])\n",
    "    \n",
    "#     print(\"Size %d, completed -->>\" % (qus[ii]))\n",
    "# #"
   ]
  },
  {
   "cell_type": "code",
   "execution_count": null,
   "id": "36033301-abae-452e-abee-a34913ac5ed1",
   "metadata": {},
   "outputs": [],
   "source": []
  }
 ],
 "metadata": {
  "kernelspec": {
   "display_name": "Python 3 (ipykernel)",
   "language": "python",
   "name": "python3"
  },
  "language_info": {
   "codemirror_mode": {
    "name": "ipython",
    "version": 3
   },
   "file_extension": ".py",
   "mimetype": "text/x-python",
   "name": "python",
   "nbconvert_exporter": "python",
   "pygments_lexer": "ipython3",
   "version": "3.10.14"
  }
 },
 "nbformat": 4,
 "nbformat_minor": 5
}
