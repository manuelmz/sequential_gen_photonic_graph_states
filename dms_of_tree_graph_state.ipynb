{
 "cells": [
  {
   "cell_type": "markdown",
   "id": "7f8fd2b8-8bbc-4d87-9dbb-61474f000dea",
   "metadata": {},
   "source": [
    "## Generating a tree graph state\n",
    "\n",
    "In this notebook we generate tree graph states with the sequential emission protocol"
   ]
  },
  {
   "cell_type": "code",
   "execution_count": 1,
   "id": "866a28ed-9114-4ff3-a84f-4c14417db30b",
   "metadata": {},
   "outputs": [],
   "source": [
    "import numpy as np \n",
    "import matplotlib.pyplot as plt\n",
    "import matplotlib.cm as cm\n",
    "import scipy.sparse as sps\n",
    "\n",
    "import cirq\n",
    "from qutip import *\n",
    "\n",
    "import qutrit_utils\n",
    "import graph_state_gen_circuits as gsg"
   ]
  },
  {
   "cell_type": "code",
   "execution_count": 2,
   "id": "ddcb94bd-55b8-4cf1-b0bf-86fb52b0db7e",
   "metadata": {},
   "outputs": [],
   "source": [
    "### system parameters\n",
    "nbranches = [1,2,3]\n",
    "\n",
    "waittimes = [0.125, 0.2, 0.125, 0.125, 0.075, 0.205, 0.275] # T_h, T_cz, T_pief, T_cnot, T_wait, T_swap1, T_swap2\n",
    "coherence_times1 = [27, 22, 16, 12]\n",
    "coherence_times2 = [22, 23, 4, 6]\n",
    "\n",
    "nparams = [0.0, 0.02, 0.01, 0.0]"
   ]
  },
  {
   "cell_type": "code",
   "execution_count": 3,
   "id": "6632ce6f-7762-488b-9ec6-64239e6dfa28",
   "metadata": {},
   "outputs": [],
   "source": [
    "##-- initialize the simulators\n",
    "simulator = cirq.Simulator()\n",
    "dsim = cirq.DensityMatrixSimulator()"
   ]
  },
  {
   "cell_type": "code",
   "execution_count": 4,
   "id": "1bcbe17b-b3ad-40ab-9d78-b2a66124dd0f",
   "metadata": {},
   "outputs": [],
   "source": [
    "#gsg.leak_tree_graph_state(2, 0.0, 0.0, 0.0)"
   ]
  },
  {
   "cell_type": "code",
   "execution_count": 5,
   "id": "25f53124-6763-4ff1-9b73-f086ab02b15b",
   "metadata": {},
   "outputs": [],
   "source": [
    "#gsg.noisy_tree_graph_state(2, waittimes, coherence_times1, coherence_times2, nparams)"
   ]
  },
  {
   "cell_type": "markdown",
   "id": "808a0e95-60c9-4220-b31d-bc0dda16abcc",
   "metadata": {},
   "source": [
    "## Generating the states"
   ]
  },
  {
   "cell_type": "code",
   "execution_count": 6,
   "id": "e6fb2535-4164-4d10-b55a-8a4f3ddeba9d",
   "metadata": {},
   "outputs": [
    {
     "name": "stdout",
     "output_type": "stream",
     "text": [
      "Computation for 1 branches, done -->>\n",
      "Computation for 2 branches, done -->>\n",
      "Computation for 3 branches, done -->>\n",
      "CPU times: user 1.16 s, sys: 389 ms, total: 1.55 s\n",
      "Wall time: 1.9 s\n"
     ]
    }
   ],
   "source": [
    "%%time\n",
    "### the ideal states\n",
    "noiseless_states = []\n",
    "\n",
    "for qu in nbranches:\n",
    "    nqubits = 3*qu + 1\n",
    "    \n",
    "    #- run the circuit\n",
    "    ideal_run = simulator.simulate(gsg.leak_tree_graph_state(qu,0,0,0))\n",
    "    \n",
    "    #- ideal state in csr form\n",
    "    ideal_rho = sps.csr_matrix(np.outer(np.conj(ideal_run.final_state_vector), ideal_run.final_state_vector))\n",
    "    \n",
    "    #- ideal state as qutip object\n",
    "    irho = Qobj(ideal_rho, dims = [[3,3] + [2]*nqubits, [3,3] + [2]*nqubits])\n",
    "    \n",
    "    #- reduced state of the qubit register (trace out the storages)\n",
    "    irho_qubits = ptrace(irho, list(range(2, nqubits+2)))\n",
    "    \n",
    "    noiseless_states.append(irho_qubits)\n",
    "    \n",
    "    print(\"Computation for %d branches, done -->>\" % qu)\n",
    "#"
   ]
  },
  {
   "cell_type": "code",
   "execution_count": 7,
   "id": "88c874b3-8a74-464b-bc5e-82cc296bf291",
   "metadata": {},
   "outputs": [
    {
     "name": "stdout",
     "output_type": "stream",
     "text": [
      "Computation for 1 branches, done -->>\n",
      "Computation for 2 branches, done -->>\n",
      "Computation for 3 branches, done -->>\n",
      "CPU times: user 36.9 s, sys: 21.5 s, total: 58.4 s\n",
      "Wall time: 1min 10s\n"
     ]
    }
   ],
   "source": [
    "%%time\n",
    "### the decoherence limited states\n",
    "deco_states = []\n",
    "\n",
    "for qu in nbranches:\n",
    "    nqubits = 3*qu + 1\n",
    "    #- run the circuit\n",
    "    deco_run = dsim.simulate(gsg.noisy_tree_graph_state(qu, waittimes, coherence_times1, coherence_times2, [0,0,0,0]))\n",
    "    \n",
    "    #- deco state in csr form\n",
    "    deco_rho = sps.csr_matrix(deco_run.final_density_matrix)\n",
    "    \n",
    "    #- ideal state as qutip object\n",
    "    drho = Qobj(deco_rho, dims = [[3,3] + [2]*nqubits, [3,3] + [2]*nqubits])\n",
    "    \n",
    "    #- reduced state of the qubit register (trace out the storages)\n",
    "    drho_qubits = ptrace(drho, list(range(2, nqubits+2)))\n",
    "    \n",
    "    deco_states.append(drho_qubits)\n",
    "    print(\"Computation for %d branches, done -->>\" % qu)\n",
    "#"
   ]
  },
  {
   "cell_type": "code",
   "execution_count": 8,
   "id": "769b2eda-2256-4f6a-b812-778e62432477",
   "metadata": {},
   "outputs": [
    {
     "name": "stdout",
     "output_type": "stream",
     "text": [
      "Computation for 1 branches, done -->>\n",
      "Computation for 2 branches, done -->>\n",
      "Computation for 3 branches, done -->>\n",
      "CPU times: user 36.9 s, sys: 22.2 s, total: 59.1 s\n",
      "Wall time: 1min 1s\n"
     ]
    }
   ],
   "source": [
    "%%time\n",
    "### the noisy states\n",
    "noisy_states = []\n",
    "\n",
    "for qu in nbranches:\n",
    "    nqubits = 3*qu + 1\n",
    "    #- run the circuit\n",
    "    noisy_run = dsim.simulate(gsg.noisy_tree_graph_state(qu, waittimes, coherence_times1, coherence_times2, nparams))\n",
    "    \n",
    "    #- deco state in csr form\n",
    "    noisy_rho = sps.csr_matrix(noisy_run.final_density_matrix)\n",
    "    \n",
    "    #- ideal state as qutip object\n",
    "    nrho = Qobj(noisy_rho, dims = [[3,3] + [2]*nqubits, [3,3] + [2]*nqubits])\n",
    "    \n",
    "    #- reduced state of the qubit register (trace out the storages)\n",
    "    nrho_qubits = ptrace(nrho, list(range(2, nqubits+2)))\n",
    "    \n",
    "    noisy_states.append(nrho_qubits)\n",
    "    \n",
    "    print(\"Computation for %d branches, done -->>\" % qu)\n",
    "#"
   ]
  },
  {
   "cell_type": "markdown",
   "id": "36236417-76ad-45be-919f-70cd756c2cce",
   "metadata": {},
   "source": [
    "### Fidelities"
   ]
  },
  {
   "cell_type": "code",
   "execution_count": 9,
   "id": "d6570741-759c-456e-91f8-15b49605a39e",
   "metadata": {},
   "outputs": [
    {
     "name": "stdout",
     "output_type": "stream",
     "text": [
      "1 0.9148478016894261 0.8455664782977766\n",
      "2 0.8368955785843096 0.7292191105066901\n",
      "3 0.7659605366792755 0.6304502618122495\n"
     ]
    }
   ],
   "source": [
    "fides_deco = []\n",
    "fides_noisy = []\n",
    "\n",
    "for qq in range(len(nbranches)):\n",
    "    fdeco = fidelity(deco_states[qq], noiseless_states[qq])**2\n",
    "    ndeco = fidelity(noisy_states[qq], noiseless_states[qq])**2\n",
    "    \n",
    "    fides_deco.append(fdeco)\n",
    "    fides_noisy.append(ndeco)\n",
    "    \n",
    "    print(nbranches[qq], fdeco, ndeco)\n",
    "#"
   ]
  },
  {
   "cell_type": "code",
   "execution_count": 13,
   "id": "800fb2da-6cd3-48b6-aaeb-c3a23a775e79",
   "metadata": {},
   "outputs": [
    {
     "data": {
      "image/png": "[encoded data removed]",
      "text/plain": [
       "<Figure size 640x480 with 1 Axes>"
      ]
     },
     "metadata": {},
     "output_type": "display_data"
    }
   ],
   "source": [
    "plt.plot(3*np.array(nbranches)+1, fides_deco, \"o-\", label = \"simulation - decoherence limited\")\n",
    "plt.plot(3*np.array(nbranches)+1, fides_noisy, \"o-\", label = \"simulation - leakage\")\n",
    "\n",
    "plt.legend(loc = \"upper right\", fontsize = 12, frameon = False)\n",
    "plt.xlabel(\"Number of qubits\", fontsize = 16)\n",
    "plt.ylabel(\"Fidelity\", fontsize = 16)\n",
    "plt.tick_params(axis = \"both\", labelsize = 13)\n",
    "plt.show()"
   ]
  },
  {
   "cell_type": "markdown",
   "id": "e0858002-33de-4723-9626-cfc4b1162eb6",
   "metadata": {},
   "source": [
    "## Exporting the states"
   ]
  },
  {
   "cell_type": "code",
   "execution_count": null,
   "id": "4b043d73-8328-4761-b7f3-b2feef7256dc",
   "metadata": {},
   "outputs": [],
   "source": [
    "### path\n",
    "#patho = \"/Users/munm2002/Documents/projects/graph_states_for_ent_witness/data_states/tree_graph_state/\""
   ]
  },
  {
   "cell_type": "code",
   "execution_count": null,
   "id": "7d5d7af8-0c27-473c-93a9-26508c2af5c6",
   "metadata": {},
   "outputs": [],
   "source": [
    "# ### save the states\n",
    "# for ii in range(len(nbranches)):\n",
    "#     nqubits = 3*nbranches[ii] + 1\n",
    "\n",
    "#     qsave(noisy_states[ii], patho+\"tree_graph_state_%dbranches_%dqubits.qu\" % (nbranches[ii], nqubits))\n",
    "\n",
    "#     print(\"Size %d, completed -->>\" % (nbranches[ii]))\n",
    "# #"
   ]
  },
  {
   "cell_type": "code",
   "execution_count": null,
   "id": "c105f03a-9988-4219-9939-3f090310640d",
   "metadata": {},
   "outputs": [],
   "source": []
  },
  {
   "cell_type": "code",
   "execution_count": null,
   "id": "f1026a14-ecb1-4eac-83df-65723ed44e92",
   "metadata": {},
   "outputs": [],
   "source": [
    "# ### checking the stabilizers\n",
    "# #- signle site operators\n",
    "# sx = sigmax()\n",
    "# sz = sigmaz()\n",
    "# ide = identity(dims = [2])\n",
    "\n",
    "# #- stabilizer generators (for tree graph with two branches)\n",
    "# S1 = tensor([sx, ide, sz, ide, ide, sz, ide])\n",
    "# S2 = tensor([ide, sx, sz, ide, ide, ide, ide])\n",
    "# S3 = tensor([sz, sz, sx, sz, ide, ide, ide])\n",
    "# S4 = tensor([ide, ide, sz, sx, ide, ide, ide])\n",
    "# S5 = tensor([ide, ide, ide, ide, sx, sz, ide])\n",
    "# S6 = tensor([sz, ide, ide, ide, sz, sx, sz])\n",
    "# S7 = tensor([ide, ide, ide, ide, ide, sz, sx])\n",
    "\n",
    "# #- compute expectations\n",
    "# e1 = expect(S1, noiseless_states[1])\n",
    "# e2 = expect(S2, noiseless_states[1])\n",
    "# e3 = expect(S3, noiseless_states[1])\n",
    "# e4 = expect(S5, noiseless_states[1])\n",
    "# e5 = expect(S5, noiseless_states[1])\n",
    "# e6 = expect(S6, noiseless_states[1])\n",
    "# e7 = expect(S7, noiseless_states[1])\n",
    "\n",
    "# print(e1)\n",
    "# print(e2)\n",
    "# print(e3)\n",
    "# print(e4)\n",
    "# print(e5)\n",
    "# print(e6)\n",
    "# print(e7)"
   ]
  }
 ],
 "metadata": {
  "kernelspec": {
   "display_name": "Python 3 (ipykernel)",
   "language": "python",
   "name": "python3"
  },
  "language_info": {
   "codemirror_mode": {
    "name": "ipython",
    "version": 3
   },
   "file_extension": ".py",
   "mimetype": "text/x-python",
   "name": "python",
   "nbconvert_exporter": "python",
   "pygments_lexer": "ipython3",
   "version": "3.10.14"
  }
 },
 "nbformat": 4,
 "nbformat_minor": 5
}
