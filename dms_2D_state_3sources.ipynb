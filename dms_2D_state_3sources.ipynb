{
 "cells": [
  {
   "cell_type": "markdown",
   "id": "7f8fd2b8-8bbc-4d87-9dbb-61474f000dea",
   "metadata": {},
   "source": [
    "## Generating two dimensional cluster states\n",
    "\n",
    "In this notebook we generate two dimensional, 3 by n grid, cluster states with the sequential emission protocol"
   ]
  },
  {
   "cell_type": "code",
   "execution_count": 2,
   "id": "866a28ed-9114-4ff3-a84f-4c14417db30b",
   "metadata": {},
   "outputs": [],
   "source": [
    "import numpy as np \n",
    "import matplotlib.pyplot as plt\n",
    "import matplotlib.cm as cm\n",
    "import scipy.sparse as sps\n",
    "\n",
    "import cirq\n",
    "from qutip import *\n",
    "\n",
    "import qutrit_utils\n",
    "import graph_state_gen_circuits as gsg"
   ]
  },
  {
   "cell_type": "code",
   "execution_count": 3,
   "id": "ddcb94bd-55b8-4cf1-b0bf-86fb52b0db7e",
   "metadata": {},
   "outputs": [],
   "source": [
    "### system parameters\n",
    "qus = [3,6,9]\n",
    "\n",
    "waittimes = [0.125, 0.2, 0.125, 0.125, 0.075, 0.205, 0.275, 0.205]\n",
    "coherence_times1 = [27, 22, 16, 12]\n",
    "coherence_times2 = [22, 23, 4, 6]\n",
    "coherence_times3 = [27, 22, 16, 12]\n",
    "\n",
    "nparams = [0.0, 0.02, 0.01, 0.0]"
   ]
  },
  {
   "cell_type": "code",
   "execution_count": 4,
   "id": "6632ce6f-7762-488b-9ec6-64239e6dfa28",
   "metadata": {},
   "outputs": [],
   "source": [
    "##-- initialize the simulators\n",
    "simulator = cirq.Simulator()\n",
    "dsim = cirq.DensityMatrixSimulator()"
   ]
  },
  {
   "cell_type": "code",
   "execution_count": 5,
   "id": "1bcbe17b-b3ad-40ab-9d78-b2a66124dd0f",
   "metadata": {},
   "outputs": [
    {
     "data": {
      "text/html": [
       "<pre style=\"overflow: auto; white-space: pre;\">                            ┌────────┐   ┌──┐\n",
       "0 (d=3): ───[H]───[Q3_CZ]───────────X───────────\n",
       "                  │                 │\n",
       "1 (d=3): ───[H]───@──────────[Q3_CZ]┼─────X─────\n",
       "                             │      │     │\n",
       "2 (d=3): ───[H]──────────────@──────┼─────┼X────\n",
       "                                    │     ││\n",
       "3: ─────────────────────────────────X─────┼┼────\n",
       "                                          ││\n",
       "4: ───────────────────────────────────────X┼────\n",
       "                                           │\n",
       "5: ────────────────────────────────────────X────\n",
       "                            └────────┘   └──┘</pre>"
      ],
      "text/plain": [
       "                            ┌────────┐   ┌──┐\n",
       "0 (d=3): ───[H]───[Q3_CZ]───────────X───────────\n",
       "                  │                 │\n",
       "1 (d=3): ───[H]───@──────────[Q3_CZ]┼─────X─────\n",
       "                             │      │     │\n",
       "2 (d=3): ───[H]──────────────@──────┼─────┼X────\n",
       "                                    │     ││\n",
       "3: ─────────────────────────────────X─────┼┼────\n",
       "                                          ││\n",
       "4: ───────────────────────────────────────X┼────\n",
       "                                           │\n",
       "5: ────────────────────────────────────────X────\n",
       "                            └────────┘   └──┘"
      ]
     },
     "execution_count": 5,
     "metadata": {},
     "output_type": "execute_result"
    }
   ],
   "source": [
    "gsg.leak_cluster_state_2D_3S(3, 0.0, 0.0, 0.0)"
   ]
  },
  {
   "cell_type": "code",
   "execution_count": 6,
   "id": "25f53124-6763-4ff1-9b73-f086ab02b15b",
   "metadata": {},
   "outputs": [
    {
     "data": {
      "text/html": [
       "<pre style=\"overflow: auto; white-space: pre;\">                                                                                                                                                                        ┌────────┐   ┌────────┐\n",
       "0 (d=3): ───[Q3_AD]───[Q3_PD]───[H]───[Q3_AD]───[Q3_PD]───[Q3_AD]───[Q3_PD]───[Q3_CZ]───[Q3_AD]───[Q3_PD]───[Q3_AD]───[Q3_PD]───[Q3_AD]───[Q3_PD]───[Q3_AD]───[Q3_PD]────X────────────[Q3_AD]─────[Q3_PD]─────────────\n",
       "                                                                              │                                                                                          │\n",
       "1 (d=3): ───[Q3_AD]───[Q3_PD]───[H]───[Q3_AD]───[Q3_PD]───[Q3_AD]───[Q3_PD]───@─────────[Q3_AD]───[Q3_PD]───[Q3_AD]───[Q3_PD]───[Q3_CZ]───[Q3_AD]───[Q3_PD]───[Q3_AD]────┼[Q3_PD]─────X───────────[Q3_AD]───[Q3_PD]───\n",
       "                                                                                                                                │                                        │            │\n",
       "2 (d=3): ───[Q3_AD]───[Q3_PD]───[H]───[Q3_AD]───[Q3_PD]───[Q3_AD]───[Q3_PD]───[Q3_AD]───[Q3_PD]───[Q3_AD]───[Q3_PD]─────────────@─────────[Q3_AD]───[Q3_PD]───[Q3_AD]────┼[Q3_PD]─────┼──────X────[Q3_AD]───[Q3_PD]───\n",
       "                                                                                                                                                                         │            │      │\n",
       "3: ──────────────────────────────────────────────────────────────────────────────────────────────────────────────────────────────────────────────────────────────────────X────────────┼──────┼────────────────────────\n",
       "                                                                                                                                                                                      │      │\n",
       "4: ───────────────────────────────────────────────────────────────────────────────────────────────────────────────────────────────────────────────────────────────────────────────────X──────┼────────────────────────\n",
       "                                                                                                                                                                                             │\n",
       "5: ──────────────────────────────────────────────────────────────────────────────────────────────────────────────────────────────────────────────────────────────────────────────────────────X────────────────────────\n",
       "                                                                                                                                                                        └────────┘   └────────┘</pre>"
      ],
      "text/plain": [
       "                                                                                                                                                                        ┌────────┐   ┌────────┐\n",
       "0 (d=3): ───[Q3_AD]───[Q3_PD]───[H]───[Q3_AD]───[Q3_PD]───[Q3_AD]───[Q3_PD]───[Q3_CZ]───[Q3_AD]───[Q3_PD]───[Q3_AD]───[Q3_PD]───[Q3_AD]───[Q3_PD]───[Q3_AD]───[Q3_PD]────X────────────[Q3_AD]─────[Q3_PD]─────────────\n",
       "                                                                              │                                                                                          │\n",
       "1 (d=3): ───[Q3_AD]───[Q3_PD]───[H]───[Q3_AD]───[Q3_PD]───[Q3_AD]───[Q3_PD]───@─────────[Q3_AD]───[Q3_PD]───[Q3_AD]───[Q3_PD]───[Q3_CZ]───[Q3_AD]───[Q3_PD]───[Q3_AD]────┼[Q3_PD]─────X───────────[Q3_AD]───[Q3_PD]───\n",
       "                                                                                                                                │                                        │            │\n",
       "2 (d=3): ───[Q3_AD]───[Q3_PD]───[H]───[Q3_AD]───[Q3_PD]───[Q3_AD]───[Q3_PD]───[Q3_AD]───[Q3_PD]───[Q3_AD]───[Q3_PD]─────────────@─────────[Q3_AD]───[Q3_PD]───[Q3_AD]────┼[Q3_PD]─────┼──────X────[Q3_AD]───[Q3_PD]───\n",
       "                                                                                                                                                                         │            │      │\n",
       "3: ──────────────────────────────────────────────────────────────────────────────────────────────────────────────────────────────────────────────────────────────────────X────────────┼──────┼────────────────────────\n",
       "                                                                                                                                                                                      │      │\n",
       "4: ───────────────────────────────────────────────────────────────────────────────────────────────────────────────────────────────────────────────────────────────────────────────────X──────┼────────────────────────\n",
       "                                                                                                                                                                                             │\n",
       "5: ──────────────────────────────────────────────────────────────────────────────────────────────────────────────────────────────────────────────────────────────────────────────────────────X────────────────────────\n",
       "                                                                                                                                                                        └────────┘   └────────┘"
      ]
     },
     "execution_count": 6,
     "metadata": {},
     "output_type": "execute_result"
    }
   ],
   "source": [
    "gsg.noisy_cluster_state_2D_3S(3, waittimes, coherence_times1, coherence_times2, coherence_times3, nparams)"
   ]
  },
  {
   "cell_type": "markdown",
   "id": "5048a1bb-ccc7-472b-aead-71239d94cd0f",
   "metadata": {},
   "source": [
    "## Generating the states"
   ]
  },
  {
   "cell_type": "code",
   "execution_count": 7,
   "id": "ae0c6dca-1b38-45ab-9739-5688ad7bc811",
   "metadata": {},
   "outputs": [
    {
     "name": "stdout",
     "output_type": "stream",
     "text": [
      "Computation for 3 qubits, done -->>\n",
      "Computation for 6 qubits, done -->>\n",
      "Computation for 9 qubits, done -->>\n",
      "CPU times: user 2.31 s, sys: 652 ms, total: 2.96 s\n",
      "Wall time: 3.16 s\n"
     ]
    }
   ],
   "source": [
    "%%time\n",
    "### the ideal states\n",
    "noiseless_states = []\n",
    "\n",
    "for qu in qus:\n",
    "    #- run the circuit\n",
    "    ideal_run = simulator.simulate(gsg.leak_cluster_state_2D_3S(qu,0,0,0))\n",
    "    \n",
    "    #- ideal state in csr form\n",
    "    ideal_rho = sps.csr_matrix(np.outer(np.conj(ideal_run.final_state_vector), ideal_run.final_state_vector))\n",
    "    \n",
    "    #- ideal state as qutip object\n",
    "    irho = Qobj(ideal_rho, dims = [[3,3,3] + [2]*qu, [3,3,3] + [2]*qu])\n",
    "    \n",
    "    #- reduced state of the qubit register (trace out the storages)\n",
    "    irho_qubits = ptrace(irho, list(range(3, qu+3)))\n",
    "    \n",
    "    noiseless_states.append(irho_qubits)\n",
    "    \n",
    "    print(\"Computation for %d qubits, done -->>\" % qu)\n",
    "#"
   ]
  },
  {
   "cell_type": "code",
   "execution_count": 8,
   "id": "77dc8612-f188-454d-a5fa-53b9c28eea7a",
   "metadata": {},
   "outputs": [
    {
     "name": "stdout",
     "output_type": "stream",
     "text": [
      "Computation for 3 qubits, done -->>\n",
      "Computation for 6 qubits, done -->>\n",
      "Computation for 9 qubits, done -->>\n",
      "CPU times: user 1min 43s, sys: 1min 27s, total: 3min 11s\n",
      "Wall time: 4min 16s\n"
     ]
    }
   ],
   "source": [
    "%%time\n",
    "### the decoherence limited states\n",
    "deco_states = []\n",
    "\n",
    "for qu in qus:\n",
    "    #- run the circuit\n",
    "    deco_run = dsim.simulate(gsg.noisy_cluster_state_2D_3S(qu, waittimes, coherence_times1, coherence_times2, coherence_times3, [0,0,0,0]))\n",
    "    \n",
    "    #- deco state in csr form\n",
    "    deco_rho = sps.csr_matrix(deco_run.final_density_matrix)\n",
    "    \n",
    "    #- ideal state as qutip object\n",
    "    drho = Qobj(deco_rho, dims = [[3,3,3] + [2]*qu, [3,3,3] + [2]*qu])\n",
    "    \n",
    "    #- reduced state of the qubit register (trace out the storages)\n",
    "    drho_qubits = ptrace(drho, list(range(3, qu+3)))\n",
    "    \n",
    "    deco_states.append(drho_qubits)\n",
    "    print(\"Computation for %d qubits, done -->>\" % qu)\n",
    "#"
   ]
  },
  {
   "cell_type": "code",
   "execution_count": 9,
   "id": "3fa5110e-4be8-4716-9655-c4934b11bd07",
   "metadata": {},
   "outputs": [
    {
     "name": "stdout",
     "output_type": "stream",
     "text": [
      "Computation for 3 qubits, done -->>\n",
      "Computation for 6 qubits, done -->>\n",
      "Computation for 9 qubits, done -->>\n",
      "CPU times: user 1min 35s, sys: 1min 3s, total: 2min 38s\n",
      "Wall time: 2min 51s\n"
     ]
    }
   ],
   "source": [
    "%%time\n",
    "### the noisy states\n",
    "noisy_states = []\n",
    "\n",
    "for qu in qus:\n",
    "    #- run the circuit\n",
    "    noisy_run = dsim.simulate(gsg.noisy_cluster_state_2D_3S(qu, waittimes, coherence_times1, coherence_times2, coherence_times3, nparams))\n",
    "    \n",
    "    #- deco state in csr form\n",
    "    noisy_rho = sps.csr_matrix(noisy_run.final_density_matrix)\n",
    "    \n",
    "    #- ideal state as qutip object\n",
    "    nrho = Qobj(noisy_rho, dims = [[3,3,3] + [2]*qu, [3,3,3] + [2]*qu])\n",
    "    \n",
    "    #- reduced state of the qubit register (trace out the storages)\n",
    "    nrho_qubits = ptrace(nrho, list(range(3, qu+3)))\n",
    "    \n",
    "    noisy_states.append(nrho_qubits)\n",
    "    \n",
    "    print(\"Computation for %d qubits, done -->>\" % qu)\n",
    "#"
   ]
  },
  {
   "cell_type": "markdown",
   "id": "926f34a0-2b55-441a-8233-b7ae0bc304a0",
   "metadata": {},
   "source": [
    "### Fidelities"
   ]
  },
  {
   "cell_type": "code",
   "execution_count": 10,
   "id": "5453515a-8091-46da-a6be-5f95334cd537",
   "metadata": {},
   "outputs": [
    {
     "name": "stdout",
     "output_type": "stream",
     "text": [
      "3 0.9522241249216434 0.9194163055673851\n",
      "6 0.8598934390099967 0.7509187904423855\n",
      "9 0.7764243671305269 0.6154021839434876\n"
     ]
    }
   ],
   "source": [
    "fides_deco = []\n",
    "fides_noisy = []\n",
    "\n",
    "for qq in range(len(qus)):\n",
    "    fdeco = fidelity(deco_states[qq], noiseless_states[qq])**2\n",
    "    ndeco = fidelity(noisy_states[qq], noiseless_states[qq])**2\n",
    "    \n",
    "    fides_deco.append(fdeco)\n",
    "    fides_noisy.append(ndeco)\n",
    "    \n",
    "    print(qus[qq], fdeco, ndeco)\n",
    "#"
   ]
  },
  {
   "cell_type": "code",
   "execution_count": 14,
   "id": "800fb2da-6cd3-48b6-aaeb-c3a23a775e79",
   "metadata": {},
   "outputs": [
    {
     "data": {
      "image/png": "[encoded data removed]",
      "text/plain": [
       "<Figure size 640x480 with 1 Axes>"
      ]
     },
     "metadata": {},
     "output_type": "display_data"
    }
   ],
   "source": [
    "plt.plot(qus, fides_deco, \"o-\", label = \"simulation - decoherence limited\")\n",
    "plt.plot(qus, fides_noisy, \"o-\", label = \"simulation - leakage\")\n",
    "\n",
    "plt.legend(loc = \"upper right\", fontsize = 12, frameon = False)\n",
    "plt.xlabel(\"Number of qubits\", fontsize = 16)\n",
    "plt.ylabel(\"Fidelity\", fontsize = 16)\n",
    "plt.tick_params(axis = \"both\", labelsize = 13)\n",
    "plt.show()"
   ]
  },
  {
   "cell_type": "markdown",
   "id": "d061f9db-8eaf-4711-b51b-cd4a63203d8b",
   "metadata": {},
   "source": [
    "## Exporting the states"
   ]
  },
  {
   "cell_type": "code",
   "execution_count": 12,
   "id": "56833db8-ccc5-4b8a-89fd-8846c0426f70",
   "metadata": {},
   "outputs": [],
   "source": [
    "### path\n",
    "#patho = \"/Users/munm2002/Documents/projects/graph_states_for_ent_witness/data_states/cluster_state_2D/\""
   ]
  },
  {
   "cell_type": "code",
   "execution_count": 13,
   "id": "68ebcff5-3d63-486f-b56f-ccc83e94103a",
   "metadata": {},
   "outputs": [],
   "source": [
    "# ### save the states\n",
    "# for ii in range(len(qus)):\n",
    "\n",
    "#     qsave(noisy_states[ii], patho+\"cluster_state_2D_%dqubits_3x%d.qu\" % (qus[ii], int(qus[ii]/3)))\n",
    "\n",
    "#     print(\"Size %d, completed -->>\" % (qus[ii]))\n",
    "# #"
   ]
  },
  {
   "cell_type": "code",
   "execution_count": null,
   "id": "637f39dd-0fe7-4bdd-9695-bc7ccf57e510",
   "metadata": {},
   "outputs": [],
   "source": []
  }
 ],
 "metadata": {
  "kernelspec": {
   "display_name": "Python 3 (ipykernel)",
   "language": "python",
   "name": "python3"
  },
  "language_info": {
   "codemirror_mode": {
    "name": "ipython",
    "version": 3
   },
   "file_extension": ".py",
   "mimetype": "text/x-python",
   "name": "python",
   "nbconvert_exporter": "python",
   "pygments_lexer": "ipython3",
   "version": "3.10.14"
  }
 },
 "nbformat": 4,
 "nbformat_minor": 5
}
