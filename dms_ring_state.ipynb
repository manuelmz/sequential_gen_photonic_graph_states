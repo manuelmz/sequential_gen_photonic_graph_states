{
 "cells": [
  {
   "cell_type": "markdown",
   "id": "7f8fd2b8-8bbc-4d87-9dbb-61474f000dea",
   "metadata": {},
   "source": [
    "## Generating two dimensional cluster states\n",
    "\n",
    "In this notebook we generate a 1D cluster state on a ring"
   ]
  },
  {
   "cell_type": "code",
   "execution_count": 4,
   "id": "866a28ed-9114-4ff3-a84f-4c14417db30b",
   "metadata": {},
   "outputs": [],
   "source": [
    "import numpy as np \n",
    "import matplotlib.pyplot as plt\n",
    "import matplotlib.cm as cm\n",
    "import scipy.sparse as sps\n",
    "\n",
    "import cirq\n",
    "from qutip import *\n",
    "\n",
    "import qutrit_utils\n",
    "import graph_state_gen_circuits as gsg"
   ]
  },
  {
   "cell_type": "code",
   "execution_count": 5,
   "id": "ddcb94bd-55b8-4cf1-b0bf-86fb52b0db7e",
   "metadata": {},
   "outputs": [],
   "source": [
    "### system parameters\n",
    "qus = [4,5,6,7,8,9,10]\n",
    "\n",
    "waittimes = [0.125, 0.2, 0.125, 0.125, 0.075, 0.205, 0.275] # T_h, T_cz, T_pief, T_cnot, T_wait, T_swap1, T_swap2\n",
    "coherence_times1 = [27, 22, 16, 12]\n",
    "coherence_times2 = [22, 23, 4, 6]\n",
    "\n",
    "nparams = [0.0, 0.02, 0.01, 0.0]"
   ]
  },
  {
   "cell_type": "code",
   "execution_count": 6,
   "id": "6632ce6f-7762-488b-9ec6-64239e6dfa28",
   "metadata": {},
   "outputs": [],
   "source": [
    "##-- initialize the simulators\n",
    "simulator = cirq.Simulator()\n",
    "dsim = cirq.DensityMatrixSimulator()"
   ]
  },
  {
   "cell_type": "code",
   "execution_count": 7,
   "id": "1bcbe17b-b3ad-40ab-9d78-b2a66124dd0f",
   "metadata": {},
   "outputs": [],
   "source": [
    "#gsg.leak_ring_cluster_state(3, 0.0, 0.0, 0.0)"
   ]
  },
  {
   "cell_type": "code",
   "execution_count": 8,
   "id": "25f53124-6763-4ff1-9b73-f086ab02b15b",
   "metadata": {},
   "outputs": [],
   "source": [
    "#gsg.noisy_ring_cluster_state(3, waittimes, coherence_times1, coherence_times2, nparams)"
   ]
  },
  {
   "cell_type": "markdown",
   "id": "e1a94b25-f000-4294-9e8c-3a28d012b4b8",
   "metadata": {},
   "source": [
    "## Generating the states"
   ]
  },
  {
   "cell_type": "code",
   "execution_count": 9,
   "id": "c0348000-bdb4-4c26-b6fb-ce24cc08ac0e",
   "metadata": {},
   "outputs": [
    {
     "name": "stdout",
     "output_type": "stream",
     "text": [
      "Computation for 4 qubits, done -->>\n",
      "Computation for 5 qubits, done -->>\n",
      "Computation for 6 qubits, done -->>\n",
      "Computation for 7 qubits, done -->>\n",
      "Computation for 8 qubits, done -->>\n",
      "Computation for 9 qubits, done -->>\n",
      "Computation for 10 qubits, done -->>\n",
      "CPU times: user 2.28 s, sys: 233 ms, total: 2.51 s\n",
      "Wall time: 2.52 s\n"
     ]
    }
   ],
   "source": [
    "%%time\n",
    "### the ideal states\n",
    "noiseless_states = []\n",
    "\n",
    "for qu in qus:\n",
    "    #- run the circuit\n",
    "    ideal_run = simulator.simulate(gsg.leak_ring_cluster_state(qu,0,0,0))\n",
    "    \n",
    "    #- ideal state in csr form\n",
    "    ideal_rho = sps.csr_matrix(np.outer(np.conj(ideal_run.final_state_vector), ideal_run.final_state_vector))\n",
    "    \n",
    "    #- ideal state as qutip object\n",
    "    irho = Qobj(ideal_rho, dims = [[3,3] + [2]*qu, [3,3] + [2]*qu])\n",
    "    \n",
    "    #- reduced state of the qubit register (trace out the storages)\n",
    "    irho_qubits = ptrace(irho, list(range(2, qu+2)))\n",
    "    \n",
    "    noiseless_states.append(irho_qubits)\n",
    "    \n",
    "    print(\"Computation for %d qubits, done -->>\" % qu)\n",
    "#"
   ]
  },
  {
   "cell_type": "code",
   "execution_count": 10,
   "id": "857c5a4a-1659-4348-a368-cd829cddc73e",
   "metadata": {},
   "outputs": [
    {
     "name": "stdout",
     "output_type": "stream",
     "text": [
      "Computation for 4 qubits, done -->>\n",
      "Computation for 5 qubits, done -->>\n",
      "Computation for 6 qubits, done -->>\n",
      "Computation for 7 qubits, done -->>\n",
      "Computation for 8 qubits, done -->>\n",
      "Computation for 9 qubits, done -->>\n",
      "Computation for 10 qubits, done -->>\n",
      "CPU times: user 49.6 s, sys: 6.13 s, total: 55.7 s\n",
      "Wall time: 51.6 s\n"
     ]
    }
   ],
   "source": [
    "%%time\n",
    "### the decoherence limited states\n",
    "deco_states = []\n",
    "\n",
    "for qu in qus:\n",
    "    #- run the circuit\n",
    "    deco_run = dsim.simulate(gsg.noisy_ring_cluster_state(qu, waittimes, coherence_times1, coherence_times2, [0,0,0,0]))\n",
    "    \n",
    "    #- deco state in csr form\n",
    "    deco_rho = sps.csr_matrix(deco_run.final_density_matrix)\n",
    "    \n",
    "    #- ideal state as qutip object\n",
    "    drho = Qobj(deco_rho, dims = [[3,3] + [2]*qu, [3,3] + [2]*qu])\n",
    "    \n",
    "    #- reduced state of the qubit register (trace out the storages)\n",
    "    drho_qubits = ptrace(drho, list(range(2, qu+2)))\n",
    "    \n",
    "    deco_states.append(drho_qubits)\n",
    "    print(\"Computation for %d qubits, done -->>\" % qu)\n",
    "#"
   ]
  },
  {
   "cell_type": "code",
   "execution_count": 11,
   "id": "fcc20f24-637d-4cd8-ab50-7e580da7fda5",
   "metadata": {},
   "outputs": [
    {
     "name": "stdout",
     "output_type": "stream",
     "text": [
      "Computation for 4 qubits, done -->>\n",
      "Computation for 5 qubits, done -->>\n",
      "Computation for 6 qubits, done -->>\n",
      "Computation for 7 qubits, done -->>\n",
      "Computation for 8 qubits, done -->>\n",
      "Computation for 9 qubits, done -->>\n",
      "Computation for 10 qubits, done -->>\n",
      "CPU times: user 1min 1s, sys: 20 s, total: 1min 21s\n",
      "Wall time: 52.5 s\n"
     ]
    }
   ],
   "source": [
    "%%time\n",
    "### the noisy states\n",
    "noisy_states = []\n",
    "\n",
    "for qu in qus:\n",
    "    #- run the circuit\n",
    "    noisy_run = dsim.simulate(gsg.noisy_ring_cluster_state(qu, waittimes, coherence_times1, coherence_times2, nparams))\n",
    "    \n",
    "    #- deco state in csr form\n",
    "    noisy_rho = sps.csr_matrix(noisy_run.final_density_matrix)\n",
    "    \n",
    "    #- ideal state as qutip object\n",
    "    nrho = Qobj(noisy_rho, dims = [[3,3] + [2]*qu, [3,3] + [2]*qu])\n",
    "    \n",
    "    #- reduced state of the qubit register (trace out the storages)\n",
    "    nrho_qubits = ptrace(nrho, list(range(2, qu+2)))\n",
    "    \n",
    "    noisy_states.append(nrho_qubits)\n",
    "    \n",
    "    print(\"Computation for %d qubits, done -->>\" % qu)\n",
    "#"
   ]
  },
  {
   "cell_type": "markdown",
   "id": "3aff35b8-2531-4bf4-9937-0677126c2ee3",
   "metadata": {},
   "source": [
    "### Fidelities"
   ]
  },
  {
   "cell_type": "code",
   "execution_count": null,
   "id": "c4d0d62a-9992-4c9e-93c2-73aed8980432",
   "metadata": {},
   "outputs": [
    {
     "name": "stdout",
     "output_type": "stream",
     "text": [
      "4 0.9226264531204315 0.838034275532221\n",
      "5 0.893948466481114 0.8099306872817692\n",
      "6 0.8808801168573643 0.7847719466837949\n",
      "7 0.8535166156915052 0.7450390197863849\n",
      "8 0.841042134046783 0.7186867108995506\n",
      "9 0.814917005378726 0.6825852666153295\n"
     ]
    }
   ],
   "source": [
    "fides_deco = []\n",
    "fides_noisy = []\n",
    "\n",
    "for qq in range(len(qus)):\n",
    "    fdeco = fidelity(deco_states[qq], noiseless_states[qq])**2\n",
    "    ndeco = fidelity(noisy_states[qq], noiseless_states[qq])**2\n",
    "    \n",
    "    fides_deco.append(fdeco)\n",
    "    fides_noisy.append(ndeco)\n",
    "    \n",
    "    print(qus[qq], fdeco, ndeco)\n",
    "#"
   ]
  },
  {
   "cell_type": "code",
   "execution_count": null,
   "id": "c64e2d26-42ab-45ff-bee0-8a0a7d9144cc",
   "metadata": {},
   "outputs": [],
   "source": [
    "plt.plot(qus, fides_deco, \"o-\", label = \"simulation - decoherence limited\")\n",
    "plt.plot(qus, fides_noisy, \"o-\", label = \"simulation - leakage\")\n",
    "\n",
    "plt.legend(loc = \"upper right\", fontsize = 12, frameon = False)\n",
    "plt.xlabel(\"Number of qubits\", fontsize = 16)\n",
    "plt.ylabel(\"Fidelity\", fontsize = 16)\n",
    "plt.tick_params(axis = \"both\", labelsize = 13)\n",
    "plt.show()"
   ]
  },
  {
   "cell_type": "markdown",
   "id": "68f8aa6d-f897-4786-8972-9285495cac36",
   "metadata": {},
   "source": [
    "## Exporting the states"
   ]
  },
  {
   "cell_type": "code",
   "execution_count": null,
   "id": "36986dcf-75e3-46ca-8453-9af527a89f72",
   "metadata": {},
   "outputs": [],
   "source": [
    "### path\n",
    "#patho = \"/Users/munm2002/Documents/projects/graph_states_for_ent_witness/data_states/cluster_state_ring/\""
   ]
  },
  {
   "cell_type": "code",
   "execution_count": null,
   "id": "547c09b4-9222-45ef-9235-8e790cd5e9d1",
   "metadata": {},
   "outputs": [],
   "source": [
    "### save the states\n",
    "# for ii in range(len(qus)):\n",
    "\n",
    "#     qsave(noisy_states[ii], patho+\"cluster_state_ring_%dqubits.qu\" % qus[ii])\n",
    "\n",
    "#     print(\"Size %d, completed -->>\" % (qus[ii]))\n",
    "# #"
   ]
  },
  {
   "cell_type": "code",
   "execution_count": null,
   "id": "f4653a5a-2a68-4f92-ad5b-ddfcf1d25f85",
   "metadata": {},
   "outputs": [],
   "source": [
    "# ### checking the stabilizers\n",
    "# #- signle site operators\n",
    "# sx = sigmax()\n",
    "# sz = sigmaz()\n",
    "# ide = identity(dims = [2])\n",
    "\n",
    "# #- stabilizer generators (for three photons ring)\n",
    "# S1 = tensor([sx, sz, sz])\n",
    "# S2 = tensor([sz, sx, sz])\n",
    "# S3 = tensor([sz, sz, sx])\n",
    "\n",
    "# #- compute expectations\n",
    "# e1 = expect(S1, noiseless_states[0])\n",
    "# e2 = expect(S2, noiseless_states[0])\n",
    "# e3 = expect(S3, noiseless_states[0])\n",
    "\n",
    "# print(e1)\n",
    "# print(e2)\n",
    "# print(e3)"
   ]
  },
  {
   "cell_type": "code",
   "execution_count": null,
   "id": "43b0b817-2e15-4a69-b46d-2fbd7c523488",
   "metadata": {},
   "outputs": [],
   "source": []
  }
 ],
 "metadata": {
  "kernelspec": {
   "display_name": "Python 3 (ipykernel)",
   "language": "python",
   "name": "python3"
  },
  "language_info": {
   "codemirror_mode": {
    "name": "ipython",
    "version": 3
   },
   "file_extension": ".py",
   "mimetype": "text/x-python",
   "name": "python",
   "nbconvert_exporter": "python",
   "pygments_lexer": "ipython3",
   "version": "3.10.14"
  }
 },
 "nbformat": 4,
 "nbformat_minor": 5
}
